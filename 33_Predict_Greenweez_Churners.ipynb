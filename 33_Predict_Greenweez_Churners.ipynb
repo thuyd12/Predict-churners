{
  "cells": [
    {
      "cell_type": "markdown",
      "metadata": {
        "id": "view-in-github",
        "colab_type": "text"
      },
      "source": [
        "<a href=\"https://colab.research.google.com/github/thuyd12/Predict-churners/blob/main/33_Predict_Greenweez_Churners.ipynb\" target=\"_parent\"><img src=\"https://colab.research.google.com/assets/colab-badge.svg\" alt=\"Open In Colab\"/></a>"
      ]
    },
    {
      "cell_type": "markdown",
      "source": [
        " ![Emil](data:image/png;base64,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)"
      ],
      "metadata": {
        "id": "Ml-2oN64D9qf"
      },
      "id": "Ml-2oN64D9qf"
    },
    {
      "cell_type": "markdown",
      "id": "df02a1b8",
      "metadata": {
        "id": "df02a1b8"
      },
      "source": [
        "# Predict Greenweez Churners\n"
      ]
    },
    {
      "cell_type": "markdown",
      "id": "d13aab03",
      "metadata": {
        "ExecuteTime": {
          "end_time": "2022-11-27T16:48:36.870811Z",
          "start_time": "2022-11-27T16:48:36.841932Z"
        },
        "id": "d13aab03"
      },
      "source": [
        "We want to find who amongst our existing database of clients will reconvert 🔁 (ie. make a second purchase) within 3 months. \n",
        "\n",
        "➡️ We have access to the sales from 2019 to 2021.\n",
        "➡️ Let's take a look at the data\n"
      ]
    },
    {
      "cell_type": "markdown",
      "id": "36da60c0",
      "metadata": {
        "id": "36da60c0"
      },
      "source": [
        "## Data discovery\n"
      ]
    },
    {
      "cell_type": "markdown",
      "source": [
        "a) Execute cell below to load data into `df` variable."
      ],
      "metadata": {
        "id": "G1WygUtZEWCg"
      },
      "id": "G1WygUtZEWCg"
    },
    {
      "cell_type": "code",
      "execution_count": null,
      "id": "acdd581b",
      "metadata": {
        "ExecuteTime": {
          "end_time": "2022-11-30T23:54:53.005053Z",
          "start_time": "2022-11-30T23:54:52.913884Z"
        },
        "id": "acdd581b"
      },
      "outputs": [],
      "source": [
        "from google.colab import auth\n",
        "import pandas as pd\n",
        "\n",
        "# Will collect your credentials\n",
        "auth.authenticate_user()\n",
        "\n",
        "# Query Bigquery\n",
        "query = \"SELECT * FROM `data-analytics-bootcamp-363212.course33.gwz_churn`\"\n",
        "\n",
        "df = pd.read_gbq(query, project_id=\"data-analytics-bootcamp-363212\")"
      ]
    },
    {
      "cell_type": "markdown",
      "source": [
        "b) Let's take a look at our data. \n",
        "\n",
        "What do you see? What's the shape of our data? Do you have null values ? What is target ?"
      ],
      "metadata": {
        "id": "83XTV3KFFgk4"
      },
      "id": "83XTV3KFFgk4"
    },
    {
      "cell_type": "code",
      "execution_count": null,
      "id": "514458ab",
      "metadata": {
        "ExecuteTime": {
          "end_time": "2022-11-30T23:55:12.438443Z",
          "start_time": "2022-11-30T23:55:12.425133Z"
        },
        "scrolled": true,
        "id": "514458ab",
        "outputId": "30f92d8c-bccf-4434-8687-5e1a16c5ab66",
        "colab": {
          "base_uri": "https://localhost:8080/"
        }
      },
      "outputs": [
        {
          "output_type": "execute_result",
          "data": {
            "text/plain": [
              "(381398, 12)"
            ]
          },
          "metadata": {},
          "execution_count": 53
        }
      ],
      "source": [
        "df.shape"
      ]
    },
    {
      "cell_type": "code",
      "execution_count": null,
      "id": "25dfd4a6",
      "metadata": {
        "ExecuteTime": {
          "end_time": "2022-11-30T23:55:12.460004Z",
          "start_time": "2022-11-30T23:55:12.443277Z"
        },
        "id": "25dfd4a6",
        "outputId": "bac3da34-a8aa-46b6-8a25-8666cd097b6c",
        "colab": {
          "base_uri": "https://localhost:8080/",
          "height": 270
        }
      },
      "outputs": [
        {
          "output_type": "execute_result",
          "data": {
            "text/plain": [
              "    date_date  orders_id  customers_id  nb_past_orders  avg_basket  \\\n",
              "0  2021-03-08     797405        207754               3   65.456667   \n",
              "1  2021-06-23     914331        229390               2   84.650000   \n",
              "2  2021-04-27     857750          4921               3   48.343333   \n",
              "3  2021-02-28     786589         10797               8   74.970000   \n",
              "4  2021-06-08     901782        116681               3   62.113333   \n",
              "\n",
              "   total_purchase_cost  avg_quantity  total_quantity  \\\n",
              "0               196.37     29.333333              88   \n",
              "1               169.30     40.000000              80   \n",
              "2               145.03     20.000000              60   \n",
              "3               599.76     26.500000             212   \n",
              "4               186.34     16.666667              50   \n",
              "\n",
              "   nb_days_since_last_order  avg_nb_unique_products  total_nb_codes  \\\n",
              "0                         0               23.000000               1   \n",
              "1                         0               34.500000               1   \n",
              "2                         0               11.666667               1   \n",
              "3                         0               20.750000               8   \n",
              "4                         0                9.333333               1   \n",
              "\n",
              "   re_purchase  \n",
              "0            0  \n",
              "1            0  \n",
              "2            1  \n",
              "3            1  \n",
              "4            0  "
            ],
            "text/html": [
              "\n",
              "  <div id=\"df-cd593e4d-f3c5-4c03-adbb-bc5bf64bfd40\">\n",
              "    <div class=\"colab-df-container\">\n",
              "      <div>\n",
              "<style scoped>\n",
              "    .dataframe tbody tr th:only-of-type {\n",
              "        vertical-align: middle;\n",
              "    }\n",
              "\n",
              "    .dataframe tbody tr th {\n",
              "        vertical-align: top;\n",
              "    }\n",
              "\n",
              "    .dataframe thead th {\n",
              "        text-align: right;\n",
              "    }\n",
              "</style>\n",
              "<table border=\"1\" class=\"dataframe\">\n",
              "  <thead>\n",
              "    <tr style=\"text-align: right;\">\n",
              "      <th></th>\n",
              "      <th>date_date</th>\n",
              "      <th>orders_id</th>\n",
              "      <th>customers_id</th>\n",
              "      <th>nb_past_orders</th>\n",
              "      <th>avg_basket</th>\n",
              "      <th>total_purchase_cost</th>\n",
              "      <th>avg_quantity</th>\n",
              "      <th>total_quantity</th>\n",
              "      <th>nb_days_since_last_order</th>\n",
              "      <th>avg_nb_unique_products</th>\n",
              "      <th>total_nb_codes</th>\n",
              "      <th>re_purchase</th>\n",
              "    </tr>\n",
              "  </thead>\n",
              "  <tbody>\n",
              "    <tr>\n",
              "      <th>0</th>\n",
              "      <td>2021-03-08</td>\n",
              "      <td>797405</td>\n",
              "      <td>207754</td>\n",
              "      <td>3</td>\n",
              "      <td>65.456667</td>\n",
              "      <td>196.37</td>\n",
              "      <td>29.333333</td>\n",
              "      <td>88</td>\n",
              "      <td>0</td>\n",
              "      <td>23.000000</td>\n",
              "      <td>1</td>\n",
              "      <td>0</td>\n",
              "    </tr>\n",
              "    <tr>\n",
              "      <th>1</th>\n",
              "      <td>2021-06-23</td>\n",
              "      <td>914331</td>\n",
              "      <td>229390</td>\n",
              "      <td>2</td>\n",
              "      <td>84.650000</td>\n",
              "      <td>169.30</td>\n",
              "      <td>40.000000</td>\n",
              "      <td>80</td>\n",
              "      <td>0</td>\n",
              "      <td>34.500000</td>\n",
              "      <td>1</td>\n",
              "      <td>0</td>\n",
              "    </tr>\n",
              "    <tr>\n",
              "      <th>2</th>\n",
              "      <td>2021-04-27</td>\n",
              "      <td>857750</td>\n",
              "      <td>4921</td>\n",
              "      <td>3</td>\n",
              "      <td>48.343333</td>\n",
              "      <td>145.03</td>\n",
              "      <td>20.000000</td>\n",
              "      <td>60</td>\n",
              "      <td>0</td>\n",
              "      <td>11.666667</td>\n",
              "      <td>1</td>\n",
              "      <td>1</td>\n",
              "    </tr>\n",
              "    <tr>\n",
              "      <th>3</th>\n",
              "      <td>2021-02-28</td>\n",
              "      <td>786589</td>\n",
              "      <td>10797</td>\n",
              "      <td>8</td>\n",
              "      <td>74.970000</td>\n",
              "      <td>599.76</td>\n",
              "      <td>26.500000</td>\n",
              "      <td>212</td>\n",
              "      <td>0</td>\n",
              "      <td>20.750000</td>\n",
              "      <td>8</td>\n",
              "      <td>1</td>\n",
              "    </tr>\n",
              "    <tr>\n",
              "      <th>4</th>\n",
              "      <td>2021-06-08</td>\n",
              "      <td>901782</td>\n",
              "      <td>116681</td>\n",
              "      <td>3</td>\n",
              "      <td>62.113333</td>\n",
              "      <td>186.34</td>\n",
              "      <td>16.666667</td>\n",
              "      <td>50</td>\n",
              "      <td>0</td>\n",
              "      <td>9.333333</td>\n",
              "      <td>1</td>\n",
              "      <td>0</td>\n",
              "    </tr>\n",
              "  </tbody>\n",
              "</table>\n",
              "</div>\n",
              "      <button class=\"colab-df-convert\" onclick=\"convertToInteractive('df-cd593e4d-f3c5-4c03-adbb-bc5bf64bfd40')\"\n",
              "              title=\"Convert this dataframe to an interactive table.\"\n",
              "              style=\"display:none;\">\n",
              "        \n",
              "  <svg xmlns=\"http://www.w3.org/2000/svg\" height=\"24px\"viewBox=\"0 0 24 24\"\n",
              "       width=\"24px\">\n",
              "    <path d=\"M0 0h24v24H0V0z\" fill=\"none\"/>\n",
              "    <path d=\"M18.56 5.44l.94 2.06.94-2.06 2.06-.94-2.06-.94-.94-2.06-.94 2.06-2.06.94zm-11 1L8.5 8.5l.94-2.06 2.06-.94-2.06-.94L8.5 2.5l-.94 2.06-2.06.94zm10 10l.94 2.06.94-2.06 2.06-.94-2.06-.94-.94-2.06-.94 2.06-2.06.94z\"/><path d=\"M17.41 7.96l-1.37-1.37c-.4-.4-.92-.59-1.43-.59-.52 0-1.04.2-1.43.59L10.3 9.45l-7.72 7.72c-.78.78-.78 2.05 0 2.83L4 21.41c.39.39.9.59 1.41.59.51 0 1.02-.2 1.41-.59l7.78-7.78 2.81-2.81c.8-.78.8-2.07 0-2.86zM5.41 20L4 18.59l7.72-7.72 1.47 1.35L5.41 20z\"/>\n",
              "  </svg>\n",
              "      </button>\n",
              "      \n",
              "  <style>\n",
              "    .colab-df-container {\n",
              "      display:flex;\n",
              "      flex-wrap:wrap;\n",
              "      gap: 12px;\n",
              "    }\n",
              "\n",
              "    .colab-df-convert {\n",
              "      background-color: #E8F0FE;\n",
              "      border: none;\n",
              "      border-radius: 50%;\n",
              "      cursor: pointer;\n",
              "      display: none;\n",
              "      fill: #1967D2;\n",
              "      height: 32px;\n",
              "      padding: 0 0 0 0;\n",
              "      width: 32px;\n",
              "    }\n",
              "\n",
              "    .colab-df-convert:hover {\n",
              "      background-color: #E2EBFA;\n",
              "      box-shadow: 0px 1px 2px rgba(60, 64, 67, 0.3), 0px 1px 3px 1px rgba(60, 64, 67, 0.15);\n",
              "      fill: #174EA6;\n",
              "    }\n",
              "\n",
              "    [theme=dark] .colab-df-convert {\n",
              "      background-color: #3B4455;\n",
              "      fill: #D2E3FC;\n",
              "    }\n",
              "\n",
              "    [theme=dark] .colab-df-convert:hover {\n",
              "      background-color: #434B5C;\n",
              "      box-shadow: 0px 1px 3px 1px rgba(0, 0, 0, 0.15);\n",
              "      filter: drop-shadow(0px 1px 2px rgba(0, 0, 0, 0.3));\n",
              "      fill: #FFFFFF;\n",
              "    }\n",
              "  </style>\n",
              "\n",
              "      <script>\n",
              "        const buttonEl =\n",
              "          document.querySelector('#df-cd593e4d-f3c5-4c03-adbb-bc5bf64bfd40 button.colab-df-convert');\n",
              "        buttonEl.style.display =\n",
              "          google.colab.kernel.accessAllowed ? 'block' : 'none';\n",
              "\n",
              "        async function convertToInteractive(key) {\n",
              "          const element = document.querySelector('#df-cd593e4d-f3c5-4c03-adbb-bc5bf64bfd40');\n",
              "          const dataTable =\n",
              "            await google.colab.kernel.invokeFunction('convertToInteractive',\n",
              "                                                     [key], {});\n",
              "          if (!dataTable) return;\n",
              "\n",
              "          const docLinkHtml = 'Like what you see? Visit the ' +\n",
              "            '<a target=\"_blank\" href=https://colab.research.google.com/notebooks/data_table.ipynb>data table notebook</a>'\n",
              "            + ' to learn more about interactive tables.';\n",
              "          element.innerHTML = '';\n",
              "          dataTable['output_type'] = 'display_data';\n",
              "          await google.colab.output.renderOutput(dataTable, element);\n",
              "          const docLink = document.createElement('div');\n",
              "          docLink.innerHTML = docLinkHtml;\n",
              "          element.appendChild(docLink);\n",
              "        }\n",
              "      </script>\n",
              "    </div>\n",
              "  </div>\n",
              "  "
            ]
          },
          "metadata": {},
          "execution_count": 54
        }
      ],
      "source": [
        "df.head()"
      ]
    },
    {
      "cell_type": "code",
      "execution_count": null,
      "id": "a54bb5d4",
      "metadata": {
        "ExecuteTime": {
          "end_time": "2022-11-30T23:55:12.499203Z",
          "start_time": "2022-11-30T23:55:12.462719Z"
        },
        "id": "a54bb5d4",
        "outputId": "53642460-78c3-4d0f-ce4c-080d4db8eda9",
        "colab": {
          "base_uri": "https://localhost:8080/"
        }
      },
      "outputs": [
        {
          "output_type": "stream",
          "name": "stdout",
          "text": [
            "<class 'pandas.core.frame.DataFrame'>\n",
            "RangeIndex: 381398 entries, 0 to 381397\n",
            "Data columns (total 12 columns):\n",
            " #   Column                    Non-Null Count   Dtype  \n",
            "---  ------                    --------------   -----  \n",
            " 0   date_date                 381398 non-null  dbdate \n",
            " 1   orders_id                 381398 non-null  Int64  \n",
            " 2   customers_id              381398 non-null  Int64  \n",
            " 3   nb_past_orders            381398 non-null  Int64  \n",
            " 4   avg_basket                381398 non-null  float64\n",
            " 5   total_purchase_cost       381398 non-null  float64\n",
            " 6   avg_quantity              381398 non-null  float64\n",
            " 7   total_quantity            381398 non-null  Int64  \n",
            " 8   nb_days_since_last_order  381398 non-null  Int64  \n",
            " 9   avg_nb_unique_products    381398 non-null  float64\n",
            " 10  total_nb_codes            381398 non-null  Int64  \n",
            " 11  re_purchase               381398 non-null  Int64  \n",
            "dtypes: Int64(7), dbdate(1), float64(4)\n",
            "memory usage: 37.5 MB\n"
          ]
        }
      ],
      "source": [
        "df.info()"
      ]
    },
    {
      "cell_type": "markdown",
      "id": "6b11d94d",
      "metadata": {
        "id": "6b11d94d"
      },
      "source": [
        "<details>\n",
        "    <summary><i>Answer:</i></summary>\n",
        "\n",
        "Your DataFrame should be of shape 381398 * 12.\n",
        "    \n",
        "The target is the `re_purchase` column, and the other columns will be your features.\n",
        "    \n",
        "There are no null values in data.\n",
        "</details>        "
      ]
    },
    {
      "cell_type": "markdown",
      "source": [
        "c) What do you think of column `orders_id` for our problem? Is it useful?"
      ],
      "metadata": {
        "id": "_0bUR-nOG131"
      },
      "id": "_0bUR-nOG131"
    },
    {
      "cell_type": "markdown",
      "source": [
        "<details>\n",
        "    <summary><i>Answer:</i></summary>\n",
        "\n",
        "Orders_id is not useful here as it is a unique identifier in Greenweez database.\n",
        "</details>   "
      ],
      "metadata": {
        "id": "Rg0ZOtuEHEDh"
      },
      "id": "Rg0ZOtuEHEDh"
    },
    {
      "cell_type": "markdown",
      "source": [
        "d) Delete `orders_id` and `date_date` columns."
      ],
      "metadata": {
        "id": "_G0el8rgHUoI"
      },
      "id": "_G0el8rgHUoI"
    },
    {
      "cell_type": "code",
      "source": [
        "df = df.drop(columns = ['date_date', 'orders_id'])"
      ],
      "metadata": {
        "id": "vmF8UdegHgXk"
      },
      "id": "vmF8UdegHgXk",
      "execution_count": null,
      "outputs": []
    },
    {
      "cell_type": "markdown",
      "source": [
        "e) Are columns values on different scales? Use DataFrame `.describe()` function to answer.\n",
        "\n",
        "What kind of preprocessing we will have to use ?"
      ],
      "metadata": {
        "id": "6zHUmwf_LjSa"
      },
      "id": "6zHUmwf_LjSa"
    },
    {
      "cell_type": "code",
      "source": [
        "df.describe()"
      ],
      "metadata": {
        "colab": {
          "base_uri": "https://localhost:8080/",
          "height": 364
        },
        "id": "_IxfqLGML1tx",
        "outputId": "c453dcc7-1b79-4ae6-c60f-2094444d4144"
      },
      "id": "_IxfqLGML1tx",
      "execution_count": null,
      "outputs": [
        {
          "output_type": "execute_result",
          "data": {
            "text/plain": [
              "        customers_id  nb_past_orders     avg_basket  total_purchase_cost  \\\n",
              "count  381398.000000   381398.000000  381398.000000        381398.000000   \n",
              "mean   161066.560242        2.058692      51.570302           124.525402   \n",
              "std     95853.282456        2.030991      41.144718           291.427518   \n",
              "min         2.000000        1.000000       0.000000             0.000000   \n",
              "25%     69762.000000        1.000000      26.290000            30.310000   \n",
              "50%    174880.000000        1.000000      43.760000            65.550000   \n",
              "75%    244394.000000        2.000000      66.840000           150.350000   \n",
              "max    314334.000000       61.000000    4726.440000         22738.110000   \n",
              "\n",
              "        avg_quantity  total_quantity  nb_days_since_last_order  \\\n",
              "count  381398.000000   381398.000000                  381398.0   \n",
              "mean       13.558555       33.825301                       0.0   \n",
              "std        13.202761       71.181359                       0.0   \n",
              "min         1.000000        1.000000                       0.0   \n",
              "25%         5.500000        7.000000                       0.0   \n",
              "50%        10.333333       16.000000                       0.0   \n",
              "75%        18.000000       38.000000                       0.0   \n",
              "max      1480.000000     3557.000000                       0.0   \n",
              "\n",
              "       avg_nb_unique_products  total_nb_codes    re_purchase  \n",
              "count           381398.000000   381398.000000  381398.000000  \n",
              "mean                 8.392141        0.544751       0.476864  \n",
              "std                  7.364444        1.441715       0.499465  \n",
              "min                  1.000000        0.000000       0.000000  \n",
              "25%                  3.000000        0.000000       0.000000  \n",
              "50%                  6.500000        0.000000       0.000000  \n",
              "75%                 11.500000        1.000000       1.000000  \n",
              "max                163.000000       57.000000       1.000000  "
            ],
            "text/html": [
              "\n",
              "  <div id=\"df-cc49a7de-4aad-4aaa-b432-42c843398467\">\n",
              "    <div class=\"colab-df-container\">\n",
              "      <div>\n",
              "<style scoped>\n",
              "    .dataframe tbody tr th:only-of-type {\n",
              "        vertical-align: middle;\n",
              "    }\n",
              "\n",
              "    .dataframe tbody tr th {\n",
              "        vertical-align: top;\n",
              "    }\n",
              "\n",
              "    .dataframe thead th {\n",
              "        text-align: right;\n",
              "    }\n",
              "</style>\n",
              "<table border=\"1\" class=\"dataframe\">\n",
              "  <thead>\n",
              "    <tr style=\"text-align: right;\">\n",
              "      <th></th>\n",
              "      <th>customers_id</th>\n",
              "      <th>nb_past_orders</th>\n",
              "      <th>avg_basket</th>\n",
              "      <th>total_purchase_cost</th>\n",
              "      <th>avg_quantity</th>\n",
              "      <th>total_quantity</th>\n",
              "      <th>nb_days_since_last_order</th>\n",
              "      <th>avg_nb_unique_products</th>\n",
              "      <th>total_nb_codes</th>\n",
              "      <th>re_purchase</th>\n",
              "    </tr>\n",
              "  </thead>\n",
              "  <tbody>\n",
              "    <tr>\n",
              "      <th>count</th>\n",
              "      <td>381398.000000</td>\n",
              "      <td>381398.000000</td>\n",
              "      <td>381398.000000</td>\n",
              "      <td>381398.000000</td>\n",
              "      <td>381398.000000</td>\n",
              "      <td>381398.000000</td>\n",
              "      <td>381398.0</td>\n",
              "      <td>381398.000000</td>\n",
              "      <td>381398.000000</td>\n",
              "      <td>381398.000000</td>\n",
              "    </tr>\n",
              "    <tr>\n",
              "      <th>mean</th>\n",
              "      <td>161066.560242</td>\n",
              "      <td>2.058692</td>\n",
              "      <td>51.570302</td>\n",
              "      <td>124.525402</td>\n",
              "      <td>13.558555</td>\n",
              "      <td>33.825301</td>\n",
              "      <td>0.0</td>\n",
              "      <td>8.392141</td>\n",
              "      <td>0.544751</td>\n",
              "      <td>0.476864</td>\n",
              "    </tr>\n",
              "    <tr>\n",
              "      <th>std</th>\n",
              "      <td>95853.282456</td>\n",
              "      <td>2.030991</td>\n",
              "      <td>41.144718</td>\n",
              "      <td>291.427518</td>\n",
              "      <td>13.202761</td>\n",
              "      <td>71.181359</td>\n",
              "      <td>0.0</td>\n",
              "      <td>7.364444</td>\n",
              "      <td>1.441715</td>\n",
              "      <td>0.499465</td>\n",
              "    </tr>\n",
              "    <tr>\n",
              "      <th>min</th>\n",
              "      <td>2.000000</td>\n",
              "      <td>1.000000</td>\n",
              "      <td>0.000000</td>\n",
              "      <td>0.000000</td>\n",
              "      <td>1.000000</td>\n",
              "      <td>1.000000</td>\n",
              "      <td>0.0</td>\n",
              "      <td>1.000000</td>\n",
              "      <td>0.000000</td>\n",
              "      <td>0.000000</td>\n",
              "    </tr>\n",
              "    <tr>\n",
              "      <th>25%</th>\n",
              "      <td>69762.000000</td>\n",
              "      <td>1.000000</td>\n",
              "      <td>26.290000</td>\n",
              "      <td>30.310000</td>\n",
              "      <td>5.500000</td>\n",
              "      <td>7.000000</td>\n",
              "      <td>0.0</td>\n",
              "      <td>3.000000</td>\n",
              "      <td>0.000000</td>\n",
              "      <td>0.000000</td>\n",
              "    </tr>\n",
              "    <tr>\n",
              "      <th>50%</th>\n",
              "      <td>174880.000000</td>\n",
              "      <td>1.000000</td>\n",
              "      <td>43.760000</td>\n",
              "      <td>65.550000</td>\n",
              "      <td>10.333333</td>\n",
              "      <td>16.000000</td>\n",
              "      <td>0.0</td>\n",
              "      <td>6.500000</td>\n",
              "      <td>0.000000</td>\n",
              "      <td>0.000000</td>\n",
              "    </tr>\n",
              "    <tr>\n",
              "      <th>75%</th>\n",
              "      <td>244394.000000</td>\n",
              "      <td>2.000000</td>\n",
              "      <td>66.840000</td>\n",
              "      <td>150.350000</td>\n",
              "      <td>18.000000</td>\n",
              "      <td>38.000000</td>\n",
              "      <td>0.0</td>\n",
              "      <td>11.500000</td>\n",
              "      <td>1.000000</td>\n",
              "      <td>1.000000</td>\n",
              "    </tr>\n",
              "    <tr>\n",
              "      <th>max</th>\n",
              "      <td>314334.000000</td>\n",
              "      <td>61.000000</td>\n",
              "      <td>4726.440000</td>\n",
              "      <td>22738.110000</td>\n",
              "      <td>1480.000000</td>\n",
              "      <td>3557.000000</td>\n",
              "      <td>0.0</td>\n",
              "      <td>163.000000</td>\n",
              "      <td>57.000000</td>\n",
              "      <td>1.000000</td>\n",
              "    </tr>\n",
              "  </tbody>\n",
              "</table>\n",
              "</div>\n",
              "      <button class=\"colab-df-convert\" onclick=\"convertToInteractive('df-cc49a7de-4aad-4aaa-b432-42c843398467')\"\n",
              "              title=\"Convert this dataframe to an interactive table.\"\n",
              "              style=\"display:none;\">\n",
              "        \n",
              "  <svg xmlns=\"http://www.w3.org/2000/svg\" height=\"24px\"viewBox=\"0 0 24 24\"\n",
              "       width=\"24px\">\n",
              "    <path d=\"M0 0h24v24H0V0z\" fill=\"none\"/>\n",
              "    <path d=\"M18.56 5.44l.94 2.06.94-2.06 2.06-.94-2.06-.94-.94-2.06-.94 2.06-2.06.94zm-11 1L8.5 8.5l.94-2.06 2.06-.94-2.06-.94L8.5 2.5l-.94 2.06-2.06.94zm10 10l.94 2.06.94-2.06 2.06-.94-2.06-.94-.94-2.06-.94 2.06-2.06.94z\"/><path d=\"M17.41 7.96l-1.37-1.37c-.4-.4-.92-.59-1.43-.59-.52 0-1.04.2-1.43.59L10.3 9.45l-7.72 7.72c-.78.78-.78 2.05 0 2.83L4 21.41c.39.39.9.59 1.41.59.51 0 1.02-.2 1.41-.59l7.78-7.78 2.81-2.81c.8-.78.8-2.07 0-2.86zM5.41 20L4 18.59l7.72-7.72 1.47 1.35L5.41 20z\"/>\n",
              "  </svg>\n",
              "      </button>\n",
              "      \n",
              "  <style>\n",
              "    .colab-df-container {\n",
              "      display:flex;\n",
              "      flex-wrap:wrap;\n",
              "      gap: 12px;\n",
              "    }\n",
              "\n",
              "    .colab-df-convert {\n",
              "      background-color: #E8F0FE;\n",
              "      border: none;\n",
              "      border-radius: 50%;\n",
              "      cursor: pointer;\n",
              "      display: none;\n",
              "      fill: #1967D2;\n",
              "      height: 32px;\n",
              "      padding: 0 0 0 0;\n",
              "      width: 32px;\n",
              "    }\n",
              "\n",
              "    .colab-df-convert:hover {\n",
              "      background-color: #E2EBFA;\n",
              "      box-shadow: 0px 1px 2px rgba(60, 64, 67, 0.3), 0px 1px 3px 1px rgba(60, 64, 67, 0.15);\n",
              "      fill: #174EA6;\n",
              "    }\n",
              "\n",
              "    [theme=dark] .colab-df-convert {\n",
              "      background-color: #3B4455;\n",
              "      fill: #D2E3FC;\n",
              "    }\n",
              "\n",
              "    [theme=dark] .colab-df-convert:hover {\n",
              "      background-color: #434B5C;\n",
              "      box-shadow: 0px 1px 3px 1px rgba(0, 0, 0, 0.15);\n",
              "      filter: drop-shadow(0px 1px 2px rgba(0, 0, 0, 0.3));\n",
              "      fill: #FFFFFF;\n",
              "    }\n",
              "  </style>\n",
              "\n",
              "      <script>\n",
              "        const buttonEl =\n",
              "          document.querySelector('#df-cc49a7de-4aad-4aaa-b432-42c843398467 button.colab-df-convert');\n",
              "        buttonEl.style.display =\n",
              "          google.colab.kernel.accessAllowed ? 'block' : 'none';\n",
              "\n",
              "        async function convertToInteractive(key) {\n",
              "          const element = document.querySelector('#df-cc49a7de-4aad-4aaa-b432-42c843398467');\n",
              "          const dataTable =\n",
              "            await google.colab.kernel.invokeFunction('convertToInteractive',\n",
              "                                                     [key], {});\n",
              "          if (!dataTable) return;\n",
              "\n",
              "          const docLinkHtml = 'Like what you see? Visit the ' +\n",
              "            '<a target=\"_blank\" href=https://colab.research.google.com/notebooks/data_table.ipynb>data table notebook</a>'\n",
              "            + ' to learn more about interactive tables.';\n",
              "          element.innerHTML = '';\n",
              "          dataTable['output_type'] = 'display_data';\n",
              "          await google.colab.output.renderOutput(dataTable, element);\n",
              "          const docLink = document.createElement('div');\n",
              "          docLink.innerHTML = docLinkHtml;\n",
              "          element.appendChild(docLink);\n",
              "        }\n",
              "      </script>\n",
              "    </div>\n",
              "  </div>\n",
              "  "
            ]
          },
          "metadata": {},
          "execution_count": 57
        }
      ]
    },
    {
      "cell_type": "markdown",
      "source": [
        "<details>\n",
        "    <summary><i>Answer:</i></summary>\n",
        "\n",
        "Features are indeed on different scales, total_nb_codes in comparison with avg_basket for examples.\n",
        "\n",
        "We will use a normalization technique.\n",
        "</details>"
      ],
      "metadata": {
        "id": "4wKGDYMnL0ns"
      },
      "id": "4wKGDYMnL0ns"
    },
    {
      "cell_type": "markdown",
      "source": [
        "f) Set column `customers_id` as index to keep customer_id information."
      ],
      "metadata": {
        "id": "rOlZmrIqH9Tj"
      },
      "id": "rOlZmrIqH9Tj"
    },
    {
      "cell_type": "code",
      "source": [
        "df = df.set_index('customers_id')"
      ],
      "metadata": {
        "id": "QrhlXxlhIbMg"
      },
      "id": "QrhlXxlhIbMg",
      "execution_count": null,
      "outputs": []
    },
    {
      "cell_type": "markdown",
      "id": "fe4da756",
      "metadata": {
        "id": "fe4da756"
      },
      "source": [
        "Note that for the sake of the exercise, we've **already preprocessed some of the data for you** 🔧. \n",
        "\n",
        "This means you'll be working on a (relatively) clean database, with your targets and features already formed. In a real-world situation, it's likely that you'll be spending a lot of time forming your target and features from simpler, less-specific data, either using python or SQL to manipulate the database."
      ]
    },
    {
      "cell_type": "markdown",
      "id": "57c4841f",
      "metadata": {
        "id": "57c4841f"
      },
      "source": [
        "## Modeling"
      ]
    },
    {
      "cell_type": "markdown",
      "id": "bc8197ad",
      "metadata": {
        "id": "bc8197ad"
      },
      "source": [
        "Now that we've seen what our data looks like, we need to define our target and features."
      ]
    },
    {
      "cell_type": "markdown",
      "source": [
        "a) Split dataset into a train and a test set (this should give you an `X_train`, `X_test`, `y_train` and `y_test`). \n",
        "\n",
        "We will keep a test_size of 20%."
      ],
      "metadata": {
        "id": "_UZK7pDxI13y"
      },
      "id": "_UZK7pDxI13y"
    },
    {
      "cell_type": "code",
      "execution_count": null,
      "id": "6ed0545e",
      "metadata": {
        "ExecuteTime": {
          "end_time": "2022-11-30T23:55:12.800730Z",
          "start_time": "2022-11-30T23:55:12.758892Z"
        },
        "id": "6ed0545e"
      },
      "outputs": [],
      "source": [
        "from sklearn.model_selection import train_test_split\n",
        "\n",
        "# every columns except re_purchase which is our target\n",
        "X = df.drop(columns='re_purchase')\n",
        "y = df['re_purchase']\n",
        "\n",
        "# split data\n",
        "X_train, X_test, y_train, y_test = train_test_split(X, y, test_size=0.2)\n",
        "\n",
        "# store customers_ids for after\n",
        "test_customers_ids = X_test.index"
      ]
    },
    {
      "cell_type": "markdown",
      "source": [
        "b) Execute cell below to apply a normalization on data.\n",
        "\n",
        "We use here a StandardScaler transformation."
      ],
      "metadata": {
        "id": "e_0jFfe1Mbtu"
      },
      "id": "e_0jFfe1Mbtu"
    },
    {
      "cell_type": "code",
      "source": [
        "from sklearn.preprocessing import StandardScaler\n",
        "\n",
        "scaler = StandardScaler()\n",
        "X_train = scaler.fit_transform(X_train)\n",
        "\n",
        "# apply same transformation on X_test\n",
        "X_test = scaler.transform(X_test)"
      ],
      "metadata": {
        "id": "RfYoK3VcLlOa"
      },
      "id": "RfYoK3VcLlOa",
      "execution_count": null,
      "outputs": []
    },
    {
      "cell_type": "markdown",
      "source": [
        "c) What is the type of X_train and X_test? Is it expected?"
      ],
      "metadata": {
        "id": "tMbN9U0FOKmP"
      },
      "id": "tMbN9U0FOKmP"
    },
    {
      "cell_type": "code",
      "source": [
        "print(type(X_train))\n",
        "print(type(X_test))"
      ],
      "metadata": {
        "colab": {
          "base_uri": "https://localhost:8080/"
        },
        "id": "UKWxRt-_OSwX",
        "outputId": "67d512c3-44d3-41bf-9c8e-83374e56b734"
      },
      "id": "UKWxRt-_OSwX",
      "execution_count": null,
      "outputs": [
        {
          "output_type": "stream",
          "name": "stdout",
          "text": [
            "<class 'numpy.ndarray'>\n",
            "<class 'numpy.ndarray'>\n"
          ]
        }
      ]
    },
    {
      "cell_type": "markdown",
      "source": [
        "<details>\n",
        "    <summary><i>Answer:</i></summary>\n",
        "\n",
        "Normalization transforms dataframes to numpy arrays, we will need to cast y_train to int to be able to train our model.\n",
        "</details>"
      ],
      "metadata": {
        "id": "S4WgjfdEOa2H"
      },
      "id": "S4WgjfdEOa2H"
    },
    {
      "cell_type": "markdown",
      "source": [
        "c) It's now time to use your first classifier model.\n",
        "\n",
        "We will use a logistic regression model. Execute cell below to train your model on train data and store test data predictions in a variable `y_pred`."
      ],
      "metadata": {
        "id": "RutL69mdMvt6"
      },
      "id": "RutL69mdMvt6"
    },
    {
      "cell_type": "code",
      "source": [
        "from sklearn.linear_model import LogisticRegression\n",
        "\n",
        "# train model\n",
        "clf = LogisticRegression()\n",
        "clf.fit(X_train, y_train.astype(\"int\"))\n",
        "\n",
        "# store predictions\n",
        "y_pred = clf.predict(X_test)"
      ],
      "metadata": {
        "id": "dMS02onvNM9m"
      },
      "id": "dMS02onvNM9m",
      "execution_count": null,
      "outputs": []
    },
    {
      "cell_type": "markdown",
      "source": [
        "d) Calculate accuracy you get on train and test data. \n",
        "\n",
        "How can you interpret it?"
      ],
      "metadata": {
        "id": "TDZ7NOSVP3-9"
      },
      "id": "TDZ7NOSVP3-9"
    },
    {
      "cell_type": "code",
      "source": [
        "accuracy_train = clf.score(X_train, y_train.astype(\"int\"))\n",
        "accuracy_test = clf.score(X_test, y_test.astype(\"int\"))\n",
        "\n",
        "print(f\"{accuracy_train=}\")\n",
        "print(f\"{accuracy_test=}\")"
      ],
      "metadata": {
        "colab": {
          "base_uri": "https://localhost:8080/"
        },
        "id": "SzV63mfTPHUa",
        "outputId": "ddf7aef7-177c-4451-c965-1e2328b20077"
      },
      "id": "SzV63mfTPHUa",
      "execution_count": null,
      "outputs": [
        {
          "output_type": "stream",
          "name": "stdout",
          "text": [
            "accuracy_train=0.7315956449635879\n",
            "accuracy_test=0.7323151546932355\n"
          ]
        }
      ]
    },
    {
      "cell_type": "markdown",
      "source": [
        "<details>\n",
        "    <summary><i>Answer:</i></summary>\n",
        "\n",
        "Logistic regression score corresponds to accuracy. \n",
        "We see here 73% accuracy on both train and test data. It means that 73% of our predictions are good.\n",
        "\n",
        "There is no overfitting as there is no difference in scores between train and test\n",
        "</details>"
      ],
      "metadata": {
        "id": "CF5TzjYwQiH1"
      },
      "id": "CF5TzjYwQiH1"
    },
    {
      "cell_type": "markdown",
      "source": [
        "e) Accuracy is one way to judge model performance but ploting confusion matrix on test data is a better technique. Because from this matrix you can get plently of metrics !\n",
        "\n",
        "Execute cell below to plot confusion matrix."
      ],
      "metadata": {
        "id": "qOE7_12CRNZU"
      },
      "id": "qOE7_12CRNZU"
    },
    {
      "cell_type": "code",
      "source": [
        "from sklearn.metrics import ConfusionMatrixDisplay\n",
        "\n",
        "confusion_matrix = ConfusionMatrixDisplay.from_estimator(clf, X_test, y_test.astype(\"int\"))"
      ],
      "metadata": {
        "colab": {
          "base_uri": "https://localhost:8080/",
          "height": 279
        },
        "id": "LjPgzNyoSJJg",
        "outputId": "2ec9e47f-a829-457e-eaf8-7897e3ed8b90"
      },
      "id": "LjPgzNyoSJJg",
      "execution_count": null,
      "outputs": [
        {
          "output_type": "display_data",
          "data": {
            "text/plain": [
              "<Figure size 432x288 with 2 Axes>"
            ],
            "image/png": "[encoded data removed]"
          },
          "metadata": {
            "needs_background": "light"
          }
        }
      ]
    },
    {
      "cell_type": "markdown",
      "source": [
        "f) From confusion matrix and below picture, calculate:\n",
        "- precision\n",
        "- recall\n",
        "- accuracy"
      ],
      "metadata": {
        "id": "VXK9Z7bxSIYC"
      },
      "id": "VXK9Z7bxSIYC"
    },
    {
      "cell_type": "markdown",
      "source": [
        "![confusionmetrucs](https://yury-zablotski.netlify.app/post/confusion-matrix/ssw.png)"
      ],
      "metadata": {
        "id": "N2JcYIqSX-qs"
      },
      "id": "N2JcYIqSX-qs"
    },
    {
      "cell_type": "markdown",
      "source": [
        "<details>\n",
        "    <summary><i>Answer:</i></summary>\n",
        "\n",
        "- precision: 23142 / (23142 + 7269) = 23142 / 30411 = 75.94%\n",
        "- recall: 23142 / (13150 + 23142) = 23142 / 36292 = 63.77%\n",
        "- accuracy: (32719 + 23142) / 76280 = 55861 / 76280 = 73.23%\n",
        "</details>"
      ],
      "metadata": {
        "id": "noqXVMq4XI87"
      },
      "id": "noqXVMq4XI87"
    },
    {
      "cell_type": "markdown",
      "source": [
        "g) What is percent of churners your model correctly detected? Is it good? "
      ],
      "metadata": {
        "id": "baHI2lAmbIWT"
      },
      "id": "baHI2lAmbIWT"
    },
    {
      "cell_type": "markdown",
      "source": [
        "<details>\n",
        "    <summary><i>Answer:</i></summary>\n",
        "\n",
        "number_churners_correctly_detected / number_of_churners = 32719 / (32719 + 7269) = 32504 / 39988 = 81.82% \n",
        "\n",
        "Not bad at all, we have now a model to identify 81.82% of churners :)\n",
        "</details>"
      ],
      "metadata": {
        "id": "kgH4yzoMbV38"
      },
      "id": "kgH4yzoMbV38"
    },
    {
      "cell_type": "markdown",
      "source": [
        "h) Is it better than a stupid model returning always 1?"
      ],
      "metadata": {
        "id": "zwWHn1JTeOte"
      },
      "id": "zwWHn1JTeOte"
    },
    {
      "cell_type": "markdown",
      "source": [
        "Obviously, we will have really bad precision and recall metrics."
      ],
      "metadata": {
        "id": "rJpdmUNteSw2"
      },
      "id": "rJpdmUNteSw2"
    },
    {
      "cell_type": "markdown",
      "source": [
        "i) What does this instruction do? How useful it can be from a business perspective?"
      ],
      "metadata": {
        "id": "w3PPpJ7racjr"
      },
      "id": "w3PPpJ7racjr"
    },
    {
      "cell_type": "code",
      "source": [
        "proba = pd.DataFrame(clf.predict_proba(X_test), columns=[\"Churner\", \"Not churner\"], index=test_customers_ids)\n",
        "proba"
      ],
      "metadata": {
        "colab": {
          "base_uri": "https://localhost:8080/",
          "height": 455
        },
        "id": "7YDRQcI3cicH",
        "outputId": "a79a68b8-40f9-430d-c9b9-be9ed9648a3b"
      },
      "id": "7YDRQcI3cicH",
      "execution_count": null,
      "outputs": [
        {
          "output_type": "execute_result",
          "data": {
            "text/plain": [
              "               Churner  Not churner\n",
              "customers_id                       \n",
              "19015         0.730911     0.269089\n",
              "251709        0.729279     0.270721\n",
              "152152        0.431824     0.568176\n",
              "299297        0.593862     0.406138\n",
              "32874         0.458414     0.541586\n",
              "...                ...          ...\n",
              "153034        0.669207     0.330793\n",
              "231272        0.041410     0.958590\n",
              "235459        0.767621     0.232379\n",
              "57271         0.250807     0.749193\n",
              "20779         0.754930     0.245070\n",
              "\n",
              "[76280 rows x 2 columns]"
            ],
            "text/html": [
              "\n",
              "  <div id=\"df-1f57ed75-0507-4812-8ed5-8f5443d64b79\">\n",
              "    <div class=\"colab-df-container\">\n",
              "      <div>\n",
              "<style scoped>\n",
              "    .dataframe tbody tr th:only-of-type {\n",
              "        vertical-align: middle;\n",
              "    }\n",
              "\n",
              "    .dataframe tbody tr th {\n",
              "        vertical-align: top;\n",
              "    }\n",
              "\n",
              "    .dataframe thead th {\n",
              "        text-align: right;\n",
              "    }\n",
              "</style>\n",
              "<table border=\"1\" class=\"dataframe\">\n",
              "  <thead>\n",
              "    <tr style=\"text-align: right;\">\n",
              "      <th></th>\n",
              "      <th>Churner</th>\n",
              "      <th>Not churner</th>\n",
              "    </tr>\n",
              "    <tr>\n",
              "      <th>customers_id</th>\n",
              "      <th></th>\n",
              "      <th></th>\n",
              "    </tr>\n",
              "  </thead>\n",
              "  <tbody>\n",
              "    <tr>\n",
              "      <th>19015</th>\n",
              "      <td>0.730911</td>\n",
              "      <td>0.269089</td>\n",
              "    </tr>\n",
              "    <tr>\n",
              "      <th>251709</th>\n",
              "      <td>0.729279</td>\n",
              "      <td>0.270721</td>\n",
              "    </tr>\n",
              "    <tr>\n",
              "      <th>152152</th>\n",
              "      <td>0.431824</td>\n",
              "      <td>0.568176</td>\n",
              "    </tr>\n",
              "    <tr>\n",
              "      <th>299297</th>\n",
              "      <td>0.593862</td>\n",
              "      <td>0.406138</td>\n",
              "    </tr>\n",
              "    <tr>\n",
              "      <th>32874</th>\n",
              "      <td>0.458414</td>\n",
              "      <td>0.541586</td>\n",
              "    </tr>\n",
              "    <tr>\n",
              "      <th>...</th>\n",
              "      <td>...</td>\n",
              "      <td>...</td>\n",
              "    </tr>\n",
              "    <tr>\n",
              "      <th>153034</th>\n",
              "      <td>0.669207</td>\n",
              "      <td>0.330793</td>\n",
              "    </tr>\n",
              "    <tr>\n",
              "      <th>231272</th>\n",
              "      <td>0.041410</td>\n",
              "      <td>0.958590</td>\n",
              "    </tr>\n",
              "    <tr>\n",
              "      <th>235459</th>\n",
              "      <td>0.767621</td>\n",
              "      <td>0.232379</td>\n",
              "    </tr>\n",
              "    <tr>\n",
              "      <th>57271</th>\n",
              "      <td>0.250807</td>\n",
              "      <td>0.749193</td>\n",
              "    </tr>\n",
              "    <tr>\n",
              "      <th>20779</th>\n",
              "      <td>0.754930</td>\n",
              "      <td>0.245070</td>\n",
              "    </tr>\n",
              "  </tbody>\n",
              "</table>\n",
              "<p>76280 rows × 2 columns</p>\n",
              "</div>\n",
              "      <button class=\"colab-df-convert\" onclick=\"convertToInteractive('df-1f57ed75-0507-4812-8ed5-8f5443d64b79')\"\n",
              "              title=\"Convert this dataframe to an interactive table.\"\n",
              "              style=\"display:none;\">\n",
              "        \n",
              "  <svg xmlns=\"http://www.w3.org/2000/svg\" height=\"24px\"viewBox=\"0 0 24 24\"\n",
              "       width=\"24px\">\n",
              "    <path d=\"M0 0h24v24H0V0z\" fill=\"none\"/>\n",
              "    <path d=\"M18.56 5.44l.94 2.06.94-2.06 2.06-.94-2.06-.94-.94-2.06-.94 2.06-2.06.94zm-11 1L8.5 8.5l.94-2.06 2.06-.94-2.06-.94L8.5 2.5l-.94 2.06-2.06.94zm10 10l.94 2.06.94-2.06 2.06-.94-2.06-.94-.94-2.06-.94 2.06-2.06.94z\"/><path d=\"M17.41 7.96l-1.37-1.37c-.4-.4-.92-.59-1.43-.59-.52 0-1.04.2-1.43.59L10.3 9.45l-7.72 7.72c-.78.78-.78 2.05 0 2.83L4 21.41c.39.39.9.59 1.41.59.51 0 1.02-.2 1.41-.59l7.78-7.78 2.81-2.81c.8-.78.8-2.07 0-2.86zM5.41 20L4 18.59l7.72-7.72 1.47 1.35L5.41 20z\"/>\n",
              "  </svg>\n",
              "      </button>\n",
              "      \n",
              "  <style>\n",
              "    .colab-df-container {\n",
              "      display:flex;\n",
              "      flex-wrap:wrap;\n",
              "      gap: 12px;\n",
              "    }\n",
              "\n",
              "    .colab-df-convert {\n",
              "      background-color: #E8F0FE;\n",
              "      border: none;\n",
              "      border-radius: 50%;\n",
              "      cursor: pointer;\n",
              "      display: none;\n",
              "      fill: #1967D2;\n",
              "      height: 32px;\n",
              "      padding: 0 0 0 0;\n",
              "      width: 32px;\n",
              "    }\n",
              "\n",
              "    .colab-df-convert:hover {\n",
              "      background-color: #E2EBFA;\n",
              "      box-shadow: 0px 1px 2px rgba(60, 64, 67, 0.3), 0px 1px 3px 1px rgba(60, 64, 67, 0.15);\n",
              "      fill: #174EA6;\n",
              "    }\n",
              "\n",
              "    [theme=dark] .colab-df-convert {\n",
              "      background-color: #3B4455;\n",
              "      fill: #D2E3FC;\n",
              "    }\n",
              "\n",
              "    [theme=dark] .colab-df-convert:hover {\n",
              "      background-color: #434B5C;\n",
              "      box-shadow: 0px 1px 3px 1px rgba(0, 0, 0, 0.15);\n",
              "      filter: drop-shadow(0px 1px 2px rgba(0, 0, 0, 0.3));\n",
              "      fill: #FFFFFF;\n",
              "    }\n",
              "  </style>\n",
              "\n",
              "      <script>\n",
              "        const buttonEl =\n",
              "          document.querySelector('#df-1f57ed75-0507-4812-8ed5-8f5443d64b79 button.colab-df-convert');\n",
              "        buttonEl.style.display =\n",
              "          google.colab.kernel.accessAllowed ? 'block' : 'none';\n",
              "\n",
              "        async function convertToInteractive(key) {\n",
              "          const element = document.querySelector('#df-1f57ed75-0507-4812-8ed5-8f5443d64b79');\n",
              "          const dataTable =\n",
              "            await google.colab.kernel.invokeFunction('convertToInteractive',\n",
              "                                                     [key], {});\n",
              "          if (!dataTable) return;\n",
              "\n",
              "          const docLinkHtml = 'Like what you see? Visit the ' +\n",
              "            '<a target=\"_blank\" href=https://colab.research.google.com/notebooks/data_table.ipynb>data table notebook</a>'\n",
              "            + ' to learn more about interactive tables.';\n",
              "          element.innerHTML = '';\n",
              "          dataTable['output_type'] = 'display_data';\n",
              "          await google.colab.output.renderOutput(dataTable, element);\n",
              "          const docLink = document.createElement('div');\n",
              "          docLink.innerHTML = docLinkHtml;\n",
              "          element.appendChild(docLink);\n",
              "        }\n",
              "      </script>\n",
              "    </div>\n",
              "  </div>\n",
              "  "
            ]
          },
          "metadata": {},
          "execution_count": 70
        }
      ]
    },
    {
      "cell_type": "markdown",
      "source": [
        "<details>\n",
        "    <summary><i>Answer:</i></summary>\n",
        "\n",
        "We can get probability to repurchase or not (column not churner).\n",
        "</details>"
      ],
      "metadata": {
        "id": "BMktqMivalB4"
      },
      "id": "BMktqMivalB4"
    },
    {
      "cell_type": "markdown",
      "source": [
        "j) Filter on customers who have between 20% and 50% to re purchase.\n",
        "\n",
        "customers with less than 20% of probability to repurchase are considered as lost."
      ],
      "metadata": {
        "id": "XtHNXxDLfu4k"
      },
      "id": "XtHNXxDLfu4k"
    },
    {
      "cell_type": "code",
      "source": [
        "proba[(proba[\"Not churner\"] >= 0.2) & (proba[\"Not churner\"] < 0.5)]"
      ],
      "metadata": {
        "colab": {
          "base_uri": "https://localhost:8080/",
          "height": 455
        },
        "id": "hVHI8QB4hF8z",
        "outputId": "49055fb5-94c5-49c2-998e-b0dcead8ae3f"
      },
      "id": "hVHI8QB4hF8z",
      "execution_count": null,
      "outputs": [
        {
          "output_type": "execute_result",
          "data": {
            "text/plain": [
              "               Churner  Not churner\n",
              "customers_id                       \n",
              "19015         0.730911     0.269089\n",
              "251709        0.729279     0.270721\n",
              "299297        0.593862     0.406138\n",
              "278985        0.774092     0.225908\n",
              "203445        0.754141     0.245859\n",
              "...                ...          ...\n",
              "31969         0.719220     0.280780\n",
              "174029        0.763778     0.236222\n",
              "153034        0.669207     0.330793\n",
              "235459        0.767621     0.232379\n",
              "20779         0.754930     0.245070\n",
              "\n",
              "[44749 rows x 2 columns]"
            ],
            "text/html": [
              "\n",
              "  <div id=\"df-ccaf2186-f2f3-4c88-8b3f-30f704fd3f46\">\n",
              "    <div class=\"colab-df-container\">\n",
              "      <div>\n",
              "<style scoped>\n",
              "    .dataframe tbody tr th:only-of-type {\n",
              "        vertical-align: middle;\n",
              "    }\n",
              "\n",
              "    .dataframe tbody tr th {\n",
              "        vertical-align: top;\n",
              "    }\n",
              "\n",
              "    .dataframe thead th {\n",
              "        text-align: right;\n",
              "    }\n",
              "</style>\n",
              "<table border=\"1\" class=\"dataframe\">\n",
              "  <thead>\n",
              "    <tr style=\"text-align: right;\">\n",
              "      <th></th>\n",
              "      <th>Churner</th>\n",
              "      <th>Not churner</th>\n",
              "    </tr>\n",
              "    <tr>\n",
              "      <th>customers_id</th>\n",
              "      <th></th>\n",
              "      <th></th>\n",
              "    </tr>\n",
              "  </thead>\n",
              "  <tbody>\n",
              "    <tr>\n",
              "      <th>19015</th>\n",
              "      <td>0.730911</td>\n",
              "      <td>0.269089</td>\n",
              "    </tr>\n",
              "    <tr>\n",
              "      <th>251709</th>\n",
              "      <td>0.729279</td>\n",
              "      <td>0.270721</td>\n",
              "    </tr>\n",
              "    <tr>\n",
              "      <th>299297</th>\n",
              "      <td>0.593862</td>\n",
              "      <td>0.406138</td>\n",
              "    </tr>\n",
              "    <tr>\n",
              "      <th>278985</th>\n",
              "      <td>0.774092</td>\n",
              "      <td>0.225908</td>\n",
              "    </tr>\n",
              "    <tr>\n",
              "      <th>203445</th>\n",
              "      <td>0.754141</td>\n",
              "      <td>0.245859</td>\n",
              "    </tr>\n",
              "    <tr>\n",
              "      <th>...</th>\n",
              "      <td>...</td>\n",
              "      <td>...</td>\n",
              "    </tr>\n",
              "    <tr>\n",
              "      <th>31969</th>\n",
              "      <td>0.719220</td>\n",
              "      <td>0.280780</td>\n",
              "    </tr>\n",
              "    <tr>\n",
              "      <th>174029</th>\n",
              "      <td>0.763778</td>\n",
              "      <td>0.236222</td>\n",
              "    </tr>\n",
              "    <tr>\n",
              "      <th>153034</th>\n",
              "      <td>0.669207</td>\n",
              "      <td>0.330793</td>\n",
              "    </tr>\n",
              "    <tr>\n",
              "      <th>235459</th>\n",
              "      <td>0.767621</td>\n",
              "      <td>0.232379</td>\n",
              "    </tr>\n",
              "    <tr>\n",
              "      <th>20779</th>\n",
              "      <td>0.754930</td>\n",
              "      <td>0.245070</td>\n",
              "    </tr>\n",
              "  </tbody>\n",
              "</table>\n",
              "<p>44749 rows × 2 columns</p>\n",
              "</div>\n",
              "      <button class=\"colab-df-convert\" onclick=\"convertToInteractive('df-ccaf2186-f2f3-4c88-8b3f-30f704fd3f46')\"\n",
              "              title=\"Convert this dataframe to an interactive table.\"\n",
              "              style=\"display:none;\">\n",
              "        \n",
              "  <svg xmlns=\"http://www.w3.org/2000/svg\" height=\"24px\"viewBox=\"0 0 24 24\"\n",
              "       width=\"24px\">\n",
              "    <path d=\"M0 0h24v24H0V0z\" fill=\"none\"/>\n",
              "    <path d=\"M18.56 5.44l.94 2.06.94-2.06 2.06-.94-2.06-.94-.94-2.06-.94 2.06-2.06.94zm-11 1L8.5 8.5l.94-2.06 2.06-.94-2.06-.94L8.5 2.5l-.94 2.06-2.06.94zm10 10l.94 2.06.94-2.06 2.06-.94-2.06-.94-.94-2.06-.94 2.06-2.06.94z\"/><path d=\"M17.41 7.96l-1.37-1.37c-.4-.4-.92-.59-1.43-.59-.52 0-1.04.2-1.43.59L10.3 9.45l-7.72 7.72c-.78.78-.78 2.05 0 2.83L4 21.41c.39.39.9.59 1.41.59.51 0 1.02-.2 1.41-.59l7.78-7.78 2.81-2.81c.8-.78.8-2.07 0-2.86zM5.41 20L4 18.59l7.72-7.72 1.47 1.35L5.41 20z\"/>\n",
              "  </svg>\n",
              "      </button>\n",
              "      \n",
              "  <style>\n",
              "    .colab-df-container {\n",
              "      display:flex;\n",
              "      flex-wrap:wrap;\n",
              "      gap: 12px;\n",
              "    }\n",
              "\n",
              "    .colab-df-convert {\n",
              "      background-color: #E8F0FE;\n",
              "      border: none;\n",
              "      border-radius: 50%;\n",
              "      cursor: pointer;\n",
              "      display: none;\n",
              "      fill: #1967D2;\n",
              "      height: 32px;\n",
              "      padding: 0 0 0 0;\n",
              "      width: 32px;\n",
              "    }\n",
              "\n",
              "    .colab-df-convert:hover {\n",
              "      background-color: #E2EBFA;\n",
              "      box-shadow: 0px 1px 2px rgba(60, 64, 67, 0.3), 0px 1px 3px 1px rgba(60, 64, 67, 0.15);\n",
              "      fill: #174EA6;\n",
              "    }\n",
              "\n",
              "    [theme=dark] .colab-df-convert {\n",
              "      background-color: #3B4455;\n",
              "      fill: #D2E3FC;\n",
              "    }\n",
              "\n",
              "    [theme=dark] .colab-df-convert:hover {\n",
              "      background-color: #434B5C;\n",
              "      box-shadow: 0px 1px 3px 1px rgba(0, 0, 0, 0.15);\n",
              "      filter: drop-shadow(0px 1px 2px rgba(0, 0, 0, 0.3));\n",
              "      fill: #FFFFFF;\n",
              "    }\n",
              "  </style>\n",
              "\n",
              "      <script>\n",
              "        const buttonEl =\n",
              "          document.querySelector('#df-ccaf2186-f2f3-4c88-8b3f-30f704fd3f46 button.colab-df-convert');\n",
              "        buttonEl.style.display =\n",
              "          google.colab.kernel.accessAllowed ? 'block' : 'none';\n",
              "\n",
              "        async function convertToInteractive(key) {\n",
              "          const element = document.querySelector('#df-ccaf2186-f2f3-4c88-8b3f-30f704fd3f46');\n",
              "          const dataTable =\n",
              "            await google.colab.kernel.invokeFunction('convertToInteractive',\n",
              "                                                     [key], {});\n",
              "          if (!dataTable) return;\n",
              "\n",
              "          const docLinkHtml = 'Like what you see? Visit the ' +\n",
              "            '<a target=\"_blank\" href=https://colab.research.google.com/notebooks/data_table.ipynb>data table notebook</a>'\n",
              "            + ' to learn more about interactive tables.';\n",
              "          element.innerHTML = '';\n",
              "          dataTable['output_type'] = 'display_data';\n",
              "          await google.colab.output.renderOutput(dataTable, element);\n",
              "          const docLink = document.createElement('div');\n",
              "          docLink.innerHTML = docLinkHtml;\n",
              "          element.appendChild(docLink);\n",
              "        }\n",
              "      </script>\n",
              "    </div>\n",
              "  </div>\n",
              "  "
            ]
          },
          "metadata": {},
          "execution_count": 72
        }
      ]
    },
    {
      "cell_type": "markdown",
      "source": [
        "k) Now you have this model. \n",
        "\n",
        "Explain which process you suggest to create at greenweez to reduce churn rate?\n",
        "\n"
      ],
      "metadata": {
        "id": "nsL4xuuViUtS"
      },
      "id": "nsL4xuuViUtS"
    },
    {
      "cell_type": "markdown",
      "source": [
        "<details>\n",
        "    <summary><i>Answer:</i></summary>\n",
        "\n",
        "On a regular basis, predict churners and send this info back to CRM via ELT process.\n",
        "\n",
        "CRM team will target those users to send them coupon codes, discounts, ...\n",
        "to retain them.\n",
        "\n",
        "This technique is really powerful\n",
        "</details>"
      ],
      "metadata": {
        "id": "jJM9mAE7qWhp"
      },
      "id": "jJM9mAE7qWhp"
    }
  ],
  "metadata": {
    "kernelspec": {
      "display_name": "Python 3 (ipykernel)",
      "language": "python",
      "name": "python3"
    },
    "language_info": {
      "codemirror_mode": {
        "name": "ipython",
        "version": 3
      },
      "file_extension": ".py",
      "mimetype": "text/x-python",
      "name": "python",
      "nbconvert_exporter": "python",
      "pygments_lexer": "ipython3",
      "version": "3.8.12"
    },
    "toc": {
      "base_numbering": 1,
      "nav_menu": {},
      "number_sections": true,
      "sideBar": true,
      "skip_h1_title": false,
      "title_cell": "Table of Contents",
      "title_sidebar": "Contents",
      "toc_cell": false,
      "toc_position": {},
      "toc_section_display": true,
      "toc_window_display": true
    },
    "varInspector": {
      "cols": {
        "lenName": 16,
        "lenType": 16,
        "lenVar": 40
      },
      "kernels_config": {
        "python": {
          "delete_cmd_postfix": "",
          "delete_cmd_prefix": "del ",
          "library": "var_list.py",
          "varRefreshCmd": "print(var_dic_list())"
        },
        "r": {
          "delete_cmd_postfix": ") ",
          "delete_cmd_prefix": "rm(",
          "library": "var_list.r",
          "varRefreshCmd": "cat(var_dic_list()) "
        }
      },
      "types_to_exclude": [
        "module",
        "function",
        "builtin_function_or_method",
        "instance",
        "_Feature"
      ],
      "window_display": false
    },
    "colab": {
      "provenance": [],
      "collapsed_sections": [
        "36da60c0",
        "57c4841f"
      ],
      "include_colab_link": true
    }
  },
  "nbformat": 4,
  "nbformat_minor": 5
}